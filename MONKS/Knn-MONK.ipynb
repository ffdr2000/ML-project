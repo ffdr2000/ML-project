{
 "cells": [
  {
   "cell_type": "code",
   "execution_count": null,
   "metadata": {},
   "outputs": [],
   "source": [
    "import matplotlib.pyplot as plt\n",
    "import numpy as np\n",
    "import pandas as pd\n",
    "from sklearn.model_selection import GridSearchCV\n",
    "from sklearn.neighbors import KNeighborsClassifier\n",
    "from sklearn import metrics \n",
    "from sklearn.model_selection import RepeatedStratifiedKFold\n",
    "from sklearn.preprocessing import OneHotEncoder"
   ]
  },
  {
   "cell_type": "markdown",
   "metadata": {},
   "source": [
    "## MONK 1"
   ]
  },
  {
   "cell_type": "code",
   "execution_count": null,
   "metadata": {},
   "outputs": [],
   "source": [
    "path=r'/home/ludovico/ML-project/data/monks-1'\n",
    "\n",
    "#importing training and test set\n",
    "monk1_train = pd.read_csv(path+'.train', header=None, delim_whitespace=True, dtype=str)\n",
    "monk1_test = pd.read_csv(path+'.test', header=None, delim_whitespace=True, dtype=str)\n",
    "\n",
    "#separating input from target\n",
    "y_train=monk1_train[0]\n",
    "x_train=monk1_train[monk1_train.columns[1:-1]]\n",
    "y_test=monk1_test[0]\n",
    "x_test=monk1_test[monk1_train.columns[1:-1]]\n",
    "\n",
    "# non encoded data\n",
    "x_train_not_enc=x_train\n",
    "x_test_not_enc=x_test\n",
    "\n",
    "# encoded data\n",
    "encoder = OneHotEncoder(sparse_output=False)\n",
    "x_train = encoder.fit_transform(x_train)\n",
    "x_test = encoder.fit_transform(x_test)"
   ]
  },
  {
   "cell_type": "markdown",
   "metadata": {},
   "source": [
    "## Model selection for MONK 1"
   ]
  },
  {
   "cell_type": "markdown",
   "metadata": {},
   "source": [
    "We do 2 independent grid search in the case of encoded/not encoded data, varying the knn hyperparameters. "
   ]
  },
  {
   "cell_type": "code",
   "execution_count": null,
   "metadata": {},
   "outputs": [],
   "source": [
    "estimator_KNN = KNeighborsClassifier(algorithm='auto')\n",
    "n_neigh=np.arange(1,50,1)\n",
    "parameters_KNN = {\n",
    "    'n_neighbors': n_neigh,\n",
    "    'weights': ('uniform','distance'),\n",
    "    'metric':('cosine','minkowski'),\n",
    "    'p': [1,2,3,5,7]\n",
    "}        \n",
    "\n",
    "grid_search_KNN = GridSearchCV(\n",
    "    estimator=estimator_KNN,\n",
    "    param_grid=parameters_KNN,\n",
    "    scoring = 'accuracy',\n",
    "    cv=RepeatedStratifiedKFold(n_splits=5, n_repeats=5, random_state=0),\n",
    "    n_jobs=-1,\n",
    "    return_train_score = True,\n",
    "    refit=True,\n",
    ")\n",
    "\n",
    "grid_search_KNN_2 = GridSearchCV(\n",
    "    estimator=estimator_KNN,\n",
    "    param_grid=parameters_KNN,\n",
    "    scoring = 'accuracy',\n",
    "    cv=RepeatedStratifiedKFold(n_splits=5, n_repeats=5, random_state=0),\n",
    "    n_jobs=-1,\n",
    "    return_train_score = True,\n",
    "    refit=True,\n",
    ")"
   ]
  },
  {
   "cell_type": "markdown",
   "metadata": {},
   "source": [
    "### Fitting and evaluting the knn model"
   ]
  },
  {
   "cell_type": "code",
   "execution_count": null,
   "metadata": {},
   "outputs": [],
   "source": [
    "# grid search with encoded data\n",
    "KNN_1=grid_search_KNN.fit(x_train, y_train)\n",
    "# grid search with not encoded data\n",
    "KNN_2=grid_search_KNN_2.fit(x_train_not_enc, y_train)\n",
    "\n",
    "print('encoded',KNN_1.best_params_)\n",
    "print('not encoded',KNN_2.best_params_) \n",
    "\n",
    "best1=KNN_1.best_score_\n",
    "best2=KNN_2.best_score_\n",
    "\n",
    "print('Best Score Encoded - Validation:', best1 )\n",
    "print('Best Score not Encoded- Validation:', best2 )\n",
    "\n",
    "# choosing the best between the enc/not enc case\n",
    "if best1>best2:\n",
    "    KNN=KNN_1\n",
    "else:\n",
    "    KNN=KNN_2\n",
    "    x_test=x_test_not_enc\n",
    "\n",
    "# Winning models and results\n",
    "cv_results_df = pd.DataFrame(KNN.cv_results_)\n",
    "best_model_index=KNN.best_index_\n",
    "\n",
    "val_acc=cv_results_df['mean_test_score'][best_model_index]\n",
    "val_std=cv_results_df['std_test_score'][best_model_index]\n",
    "train_acc=cv_results_df['mean_train_score'][best_model_index]\n",
    "train_std=cv_results_df['std_train_score'][best_model_index]\n",
    "\n",
    "print('Train accuracy:',train_acc,'+/-', train_std)\n",
    "print('validation accuracy:',val_acc,'+/-', val_std)"
   ]
  },
  {
   "cell_type": "markdown",
   "metadata": {},
   "source": [
    "## Model assessment"
   ]
  },
  {
   "cell_type": "code",
   "execution_count": null,
   "metadata": {},
   "outputs": [],
   "source": [
    "y_pred_KNN =KNN.predict(x_test)\n",
    "\n",
    "print('Accuracy Score - KNN - Test-error:', metrics.accuracy_score(y_test, y_pred_KNN))  \n",
    "\n",
    "print('\\n Classification report',metrics.classification_report(y_test, y_pred_KNN))\n",
    "\n",
    "cm = metrics.confusion_matrix(y_test, y_pred_KNN, labels=KNN.classes_)\n",
    "disp = metrics.ConfusionMatrixDisplay(confusion_matrix=cm,\n",
    "                               display_labels=KNN.classes_)\n",
    "disp.plot()\n",
    "plt.show()"
   ]
  },
  {
   "cell_type": "markdown",
   "metadata": {},
   "source": [
    "## MONK 2"
   ]
  },
  {
   "cell_type": "code",
   "execution_count": null,
   "metadata": {},
   "outputs": [],
   "source": [
    "path=r'/home/ludovico/ML-project/data/monks-2'\n",
    "\n",
    "#importing training and test set\n",
    "monk2_train = pd.read_csv(path+'.train', header=None, delim_whitespace=True, dtype=str)\n",
    "monk2_test = pd.read_csv(path+'.test', header=None, delim_whitespace=True, dtype=str)\n",
    "\n",
    "#separating input from target\n",
    "y_train=monk2_train[0]\n",
    "x_train=monk2_train[monk2_train.columns[1:-1]]\n",
    "y_test=monk2_test[0]\n",
    "x_test=monk2_test[monk2_train.columns[1:-1]]\n",
    "\n",
    "# non encoded data\n",
    "x_train_not_enc=x_train\n",
    "x_test_not_enc=x_test\n",
    "\n",
    "# encoded data\n",
    "encoder = OneHotEncoder(sparse_output=False)\n",
    "x_train = encoder.fit_transform(x_train)\n",
    "x_test = encoder.fit_transform(x_test)"
   ]
  },
  {
   "cell_type": "markdown",
   "metadata": {},
   "source": [
    "## Model selection for MONK 2"
   ]
  },
  {
   "cell_type": "code",
   "execution_count": null,
   "metadata": {},
   "outputs": [],
   "source": [
    "estimator_KNN = KNeighborsClassifier(algorithm='auto')\n",
    "n_neigh=np.arange(1,50,1)\n",
    "parameters_KNN = {\n",
    "    'n_neighbors': n_neigh,\n",
    "    'weights': ('uniform','distance'),\n",
    "    'metric':('cosine','minkowski'),\n",
    "    'p': [1,2,3,5,7]\n",
    "}        \n",
    "\n",
    "grid_search_KNN = GridSearchCV(\n",
    "    estimator=estimator_KNN,\n",
    "    param_grid=parameters_KNN,\n",
    "    scoring = 'accuracy',\n",
    "    cv=RepeatedStratifiedKFold(n_splits=5, n_repeats=5, random_state=0),\n",
    "    n_jobs=-1,\n",
    "    return_train_score = True,\n",
    "    refit=True,\n",
    ")\n",
    "\n",
    "grid_search_KNN_2 = GridSearchCV(\n",
    "    estimator=estimator_KNN,\n",
    "    param_grid=parameters_KNN,\n",
    "    scoring = 'accuracy',\n",
    "    cv=RepeatedStratifiedKFold(n_splits=5, n_repeats=5, random_state=0),\n",
    "    n_jobs=-1,\n",
    "    return_train_score = True,\n",
    "    refit=True,\n",
    ")"
   ]
  },
  {
   "cell_type": "code",
   "execution_count": null,
   "metadata": {},
   "outputs": [],
   "source": [
    "# grid search with encoded data\n",
    "KNN_1=grid_search_KNN.fit(x_train, y_train)\n",
    "# grid search with not encoded data\n",
    "KNN_2=grid_search_KNN_2.fit(x_train_not_enc, y_train)\n",
    "\n",
    "print('encoded',KNN_1.best_params_)\n",
    "print('not encoded',KNN_2.best_params_) \n",
    "\n",
    "best1=KNN_1.best_score_\n",
    "best2=KNN_2.best_score_\n",
    "\n",
    "print('Best Score Encoded - Validation:', best1 )\n",
    "print('Best Score not Encoded- Validation:', best2 )\n",
    "\n",
    "# choosing the best between the enc/not enc case\n",
    "if best1>best2:\n",
    "    KNN=KNN_1\n",
    "else:\n",
    "    KNN=KNN_2\n",
    "    x_test=x_test_not_enc\n",
    "\n",
    "# Winning models and results\n",
    "cv_results_df = pd.DataFrame(KNN.cv_results_)\n",
    "best_model_index=KNN.best_index_\n",
    "\n",
    "val_acc=cv_results_df['mean_test_score'][best_model_index]\n",
    "val_std=cv_results_df['std_test_score'][best_model_index]\n",
    "train_acc=cv_results_df['mean_train_score'][best_model_index]\n",
    "train_std=cv_results_df['std_train_score'][best_model_index]\n",
    "\n",
    "print('Train accuracy:',train_acc,'+/-', train_std)\n",
    "print('validation accuracy:',val_acc,'+/-', val_std)"
   ]
  },
  {
   "cell_type": "markdown",
   "metadata": {},
   "source": [
    "## Model assessment"
   ]
  },
  {
   "cell_type": "code",
   "execution_count": null,
   "metadata": {},
   "outputs": [],
   "source": [
    "y_pred_KNN =KNN.predict(x_test)\n",
    "\n",
    "print('Accuracy Score - KNN - Test-error:', metrics.accuracy_score(y_test, y_pred_KNN))  \n",
    "\n",
    "print('\\n Classification report',metrics.classification_report(y_test, y_pred_KNN))\n",
    "\n",
    "cm = metrics.confusion_matrix(y_test, y_pred_KNN, labels=KNN.classes_)\n",
    "disp = metrics.ConfusionMatrixDisplay(confusion_matrix=cm,\n",
    "                               display_labels=KNN.classes_)\n",
    "disp.plot()\n",
    "plt.show()"
   ]
  },
  {
   "cell_type": "markdown",
   "metadata": {},
   "source": [
    "## MONK 3"
   ]
  },
  {
   "cell_type": "code",
   "execution_count": null,
   "metadata": {},
   "outputs": [],
   "source": [
    "path=r'/home/ludovico/ML-project/data/monks-3'\n",
    "\n",
    "#importing training and test set\n",
    "monk3_train = pd.read_csv(path+'.train', header=None, delim_whitespace=True, dtype=str)\n",
    "monk3_test = pd.read_csv(path+'.test', header=None, delim_whitespace=True, dtype=str)\n",
    "\n",
    "#separating input from target\n",
    "y_train=monk3_train[0]\n",
    "x_train=monk3_train[monk3_train.columns[1:-1]]\n",
    "y_test=monk3_test[0]\n",
    "x_test=monk3_test[monk3_train.columns[1:-1]]\n",
    "\n",
    "# non encoded data\n",
    "x_train_not_enc=x_train\n",
    "x_test_not_enc=x_test\n",
    "\n",
    "# encoded data\n",
    "encoder = OneHotEncoder(sparse_output=False)\n",
    "x_train = encoder.fit_transform(x_train)\n",
    "x_test = encoder.fit_transform(x_test)"
   ]
  },
  {
   "cell_type": "markdown",
   "metadata": {},
   "source": [
    "## Model selection for MONK 3"
   ]
  },
  {
   "cell_type": "code",
   "execution_count": null,
   "metadata": {},
   "outputs": [],
   "source": [
    "estimator_KNN = KNeighborsClassifier(algorithm='auto')\n",
    "n_neigh=np.arange(1,50,1)\n",
    "parameters_KNN = {\n",
    "    'n_neighbors': n_neigh,\n",
    "    'weights': ('uniform','distance'),\n",
    "    'metric':('cosine','minkowski'),\n",
    "    'p': [1,2,3,5,7]\n",
    "}        \n",
    "\n",
    "grid_search_KNN = GridSearchCV(\n",
    "    estimator=estimator_KNN,\n",
    "    param_grid=parameters_KNN,\n",
    "    scoring = 'accuracy',\n",
    "    cv=RepeatedStratifiedKFold(n_splits=5, n_repeats=5, random_state=0),\n",
    "    n_jobs=-1,\n",
    "    return_train_score = True,\n",
    "    refit=True,\n",
    ")\n",
    "\n",
    "grid_search_KNN_2 = GridSearchCV(\n",
    "    estimator=estimator_KNN,\n",
    "    param_grid=parameters_KNN,\n",
    "    scoring = 'accuracy',\n",
    "    cv=RepeatedStratifiedKFold(n_splits=5, n_repeats=5, random_state=0),\n",
    "    n_jobs=-1,\n",
    "    return_train_score = True,\n",
    "    refit=True,\n",
    ")"
   ]
  },
  {
   "cell_type": "code",
   "execution_count": null,
   "metadata": {},
   "outputs": [],
   "source": [
    "# grid search with encoded data\n",
    "KNN_1=grid_search_KNN.fit(x_train, y_train)\n",
    "# grid search with not encoded data\n",
    "KNN_2=grid_search_KNN_2.fit(x_train_not_enc, y_train)\n",
    "\n",
    "print('encoded',KNN_1.best_params_)\n",
    "print('not encoded',KNN_2.best_params_) \n",
    "\n",
    "best1=KNN_1.best_score_\n",
    "best2=KNN_2.best_score_\n",
    "\n",
    "print('Best Score Encoded - Validation:', best1 )\n",
    "print('Best Score not Encoded- Validation:', best2 )\n",
    "\n",
    "# choosing the best between the enc/not enc case\n",
    "if best1>best2:\n",
    "    KNN=KNN_1\n",
    "else:\n",
    "    KNN=KNN_2\n",
    "    x_test=x_test_not_enc\n",
    "\n",
    "# Winning models and results\n",
    "cv_results_df = pd.DataFrame(KNN.cv_results_)\n",
    "best_model_index=KNN.best_index_\n",
    "\n",
    "val_acc=cv_results_df['mean_test_score'][best_model_index]\n",
    "val_std=cv_results_df['std_test_score'][best_model_index]\n",
    "train_acc=cv_results_df['mean_train_score'][best_model_index]\n",
    "train_std=cv_results_df['std_train_score'][best_model_index]\n",
    "\n",
    "print('Train accuracy:',train_acc,'+/-', train_std)\n",
    "print('validation accuracy:',val_acc,'+/-', val_std)"
   ]
  },
  {
   "cell_type": "markdown",
   "metadata": {},
   "source": [
    "## Model assessment"
   ]
  },
  {
   "cell_type": "code",
   "execution_count": null,
   "metadata": {},
   "outputs": [],
   "source": [
    "y_pred_KNN =KNN.predict(x_test)\n",
    "\n",
    "print('Accuracy Score - KNN - Test-error:', metrics.accuracy_score(y_test, y_pred_KNN))  \n",
    "\n",
    "print('\\n Classification report',metrics.classification_report(y_test, y_pred_KNN))\n",
    "\n",
    "cm = metrics.confusion_matrix(y_test, y_pred_KNN, labels=KNN.classes_)\n",
    "disp = metrics.ConfusionMatrixDisplay(confusion_matrix=cm,\n",
    "                               display_labels=KNN.classes_)\n",
    "disp.plot()\n",
    "plt.show()"
   ]
  }
 ],
 "metadata": {
  "kernelspec": {
   "display_name": "Python 3",
   "language": "python",
   "name": "python3"
  },
  "language_info": {
   "codemirror_mode": {
    "name": "ipython",
    "version": 3
   },
   "file_extension": ".py",
   "mimetype": "text/x-python",
   "name": "python",
   "nbconvert_exporter": "python",
   "pygments_lexer": "ipython3",
   "version": "3.10.12"
  }
 },
 "nbformat": 4,
 "nbformat_minor": 2
}

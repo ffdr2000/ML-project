{
 "cells": [
  {
   "cell_type": "code",
   "execution_count": null,
   "metadata": {},
   "outputs": [],
   "source": [
    "import tensorflow as tf\n",
    "import matplotlib.pyplot as plt\n",
    "import numpy as np\n",
    "import pandas as pd\n",
    "from sklearn.model_selection import GridSearchCV\n",
    "from sklearn import metrics \n",
    "from sklearn.model_selection import RepeatedStratifiedKFold\n",
    "from sklearn.preprocessing import OneHotEncoder\n",
    "from sklearn.model_selection import train_test_split\n",
    "\n",
    "import keras\n",
    "from scikeras.wrappers import KerasClassifier\n",
    "from keras.models import Sequential \n",
    "from keras.layers import Dense\n",
    "from keras.optimizers import SGD\n"
   ]
  },
  {
   "cell_type": "code",
   "execution_count": null,
   "metadata": {},
   "outputs": [],
   "source": [
    "path=r'/home/ludovico/ML-project/data/monks-2'\n",
    "\n",
    "#importing training and test set\n",
    "monk2_train = pd.read_csv(path+'.train', header=None, delim_whitespace=True, dtype=str)\n",
    "monk2_test = pd.read_csv(path+'.test', header=None, delim_whitespace=True, dtype=str)\n",
    "\n",
    "#separating input from target\n",
    "y_train=monk2_train[0]\n",
    "x_train=monk2_train[monk2_train.columns[1:-1]]\n",
    "y_test=monk2_test[0]\n",
    "x_test=monk2_test[monk2_train.columns[1:-1]]\n",
    "\n",
    "# encoded data\n",
    "encoder = OneHotEncoder(sparse_output=False)\n",
    "x_train = encoder.fit_transform(x_train)\n",
    "x_test = encoder.fit_transform(x_test)"
   ]
  },
  {
   "cell_type": "markdown",
   "metadata": {},
   "source": [
    "## Creating the network using Keras \n",
    "We add 1 hidden layer with 17 (x_train.shape[1]) number of input units, dens_nparams number of units in the hidden layer, SGD as optimizer algorithm and 1 output unit with sigmoid activation function. "
   ]
  },
  {
   "cell_type": "code",
   "execution_count": null,
   "metadata": {},
   "outputs": [],
   "source": [
    "def create_model(init='uniform', activation='relu', nbr_features=17, dense_nparams=10,lr=0.01,momentum=0.1,w_d=0.0001, nest=False):\n",
    "    model = Sequential()\n",
    "    model.add(Dense(dense_nparams, activation, input_shape=(nbr_features,), kernel_initializer=init,)) \n",
    "    model.add(Dense(1, activation='sigmoid',kernel_initializer=init))\n",
    "    model.compile(loss='binary_crossentropy', optimizer=SGD(lr,momentum,nest,w_d),metrics=[\"accuracy\"])\n",
    "    return model\n",
    "\n",
    "# callback to use earlystopping \n",
    "callback = keras.callbacks.EarlyStopping(monitor='loss',patience=3)\n",
    "\n",
    "kears_estimator = KerasClassifier(model=create_model,verbose=0)"
   ]
  },
  {
   "cell_type": "markdown",
   "metadata": {},
   "source": [
    "## Model selection"
   ]
  },
  {
   "cell_type": "code",
   "execution_count": null,
   "metadata": {},
   "outputs": [],
   "source": [
    "keras.utils.set_random_seed(42)\n",
    "param_grid = {\n",
    "    'epochs': [600],\n",
    "    'model__dense_nparams': [5],\n",
    "    'model__init': [ 'normal'], \n",
    "    'batch_size':[50],\n",
    "    'model__lr':[0.1],\n",
    "    'model__momentum':[0.4],\n",
    "    'model__w_d':[0.001],\n",
    "    'model__activation':['relu']    \n",
    "}\n",
    "\n",
    "grid_search = GridSearchCV(estimator=kears_estimator,  \n",
    "                    n_jobs=-1, \n",
    "                    verbose=3,\n",
    "                    return_train_score=True,\n",
    "                    scoring='accuracy',\n",
    "                    cv=RepeatedStratifiedKFold(n_splits=5, n_repeats=5, random_state=0),\n",
    "                    param_grid=param_grid,\n",
    "                    )\n",
    "\n",
    "MLP=grid_search.fit(x_train, y_train)"
   ]
  },
  {
   "cell_type": "markdown",
   "metadata": {},
   "source": [
    "### Evaluating the MLP classifier "
   ]
  },
  {
   "cell_type": "code",
   "execution_count": null,
   "metadata": {},
   "outputs": [],
   "source": [
    "cv_results_df = pd.DataFrame(MLP.cv_results_)\n",
    "best_model_index=MLP.best_index_\n",
    "\n",
    "print('best params',MLP.best_params_) \n",
    "\n",
    "val_loss=cv_results_df['mean_test_score'][best_model_index]\n",
    "val_std=cv_results_df['std_test_score'][best_model_index]\n",
    "train_loss=cv_results_df['mean_train_score'][best_model_index]\n",
    "train_std=cv_results_df['std_train_score'][best_model_index]\n",
    "print('Train acc:',train_loss,'+/-', train_std)\n",
    "print('Validation acc:',val_loss,'+/-', val_std)\n",
    "\n",
    "cv_results_df"
   ]
  },
  {
   "cell_type": "markdown",
   "metadata": {},
   "source": [
    "## Learning curve"
   ]
  },
  {
   "cell_type": "code",
   "execution_count": null,
   "metadata": {},
   "outputs": [],
   "source": [
    "keras.utils.set_random_seed(42)\n",
    "x_train_cl, x_val, y_train_cl, y_val = train_test_split(x_train, y_train, test_size=0.20, random_state=0, stratify=y_train, shuffle=True)\n",
    "\n",
    "model=KerasClassifier(model=create_model,**grid_search.best_params_)\n",
    "history = model.fit(x_train_cl, y_train_cl.astype(np.float32),validation_data=(x_val,y_val.astype(np.float32)))\n",
    "\n",
    "# list all data in history\n",
    "\n",
    "plt.rcParams.update({'font.size': 12})\n",
    "\n",
    "print(history.history_.keys())\n",
    "# summarize history for accuracy\n",
    "plt.figure(figsize=(12,5))\n",
    "plt.subplot(1,2,1)\n",
    "plt.plot(history.history_['accuracy'])\n",
    "plt.plot(history.history_['val_accuracy'], linestyle='--')\n",
    "plt.ylabel('Accuracy')\n",
    "plt.xlabel('Epoch')\n",
    "plt.legend(['Train', 'Validation'], loc='best')\n",
    "plt.subplot(1,2,2)\n",
    "# summarize history for loss\n",
    "plt.plot(history.history_['loss'])\n",
    "plt.plot(history.history_['val_loss'], linestyle='--')\n",
    "\n",
    "plt.ylabel('Loss')\n",
    "plt.xlabel('Epoch')\n",
    "plt.legend(['Train', 'Validation'], loc='best')\n",
    "plt.show()"
   ]
  },
  {
   "cell_type": "markdown",
   "metadata": {},
   "source": [
    "## Model assessment"
   ]
  },
  {
   "cell_type": "code",
   "execution_count": null,
   "metadata": {},
   "outputs": [],
   "source": [
    "y_pred =MLP.predict(x_test)\n",
    "\n",
    "print('Accuracy Score -  Test-error:', metrics.accuracy_score(y_test, y_pred))  \n",
    "\n",
    "print('\\n Classification report',metrics.classification_report(y_test, y_pred))\n",
    "\n",
    "cm = metrics.confusion_matrix(y_test, y_pred, labels=MLP.classes_)\n",
    "disp = metrics.ConfusionMatrixDisplay(confusion_matrix=cm,\n",
    "                               display_labels=MLP.classes_)\n",
    "disp.plot()\n",
    "plt.show()"
   ]
  }
 ],
 "metadata": {
  "kernelspec": {
   "display_name": "Python 3",
   "language": "python",
   "name": "python3"
  },
  "language_info": {
   "codemirror_mode": {
    "name": "ipython",
    "version": 3
   },
   "file_extension": ".py",
   "mimetype": "text/x-python",
   "name": "python",
   "nbconvert_exporter": "python",
   "pygments_lexer": "ipython3",
   "version": "3.10.12"
  }
 },
 "nbformat": 4,
 "nbformat_minor": 2
}

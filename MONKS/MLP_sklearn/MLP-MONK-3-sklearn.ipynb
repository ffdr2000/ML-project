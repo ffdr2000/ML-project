{
 "cells": [
  {
   "cell_type": "code",
   "execution_count": 1,
   "metadata": {},
   "outputs": [],
   "source": [
    "import matplotlib.pyplot as plt\n",
    "import numpy as np\n",
    "import pandas as pd\n",
    "from sklearn.model_selection import GridSearchCV\n",
    "from sklearn import metrics \n",
    "from sklearn.model_selection import RepeatedStratifiedKFold\n",
    "from sklearn.neural_network import MLPClassifier\n",
    "from sklearn.preprocessing import OneHotEncoder\n",
    "from sklearn.base import clone\n",
    "from sklearn.model_selection import train_test_split\n",
    "\n",
    "\n",
    "plt.rcParams.update({'font.size': 12})"
   ]
  },
  {
   "cell_type": "markdown",
   "metadata": {},
   "source": [
    "## Monk 3"
   ]
  },
  {
   "cell_type": "code",
   "execution_count": null,
   "metadata": {},
   "outputs": [],
   "source": [
    "path=r'/home/ludovico/ML-project/data/monks-3'\n",
    "\n",
    "#importing training and test set\n",
    "monk3_train = pd.read_csv(path+'.train', header=None, delim_whitespace=True, dtype=str)\n",
    "monk3_test = pd.read_csv(path+'.test', header=None, delim_whitespace=True, dtype=str)\n",
    "\n",
    "#separating input from target\n",
    "y_train=monk3_train[0]\n",
    "x_train=monk3_train[monk3_train.columns[1:-1]]\n",
    "y_test=monk3_test[0]\n",
    "x_test=monk3_test[monk3_train.columns[1:-1]]\n",
    "\n",
    "# encoded data\n",
    "encoder = OneHotEncoder(sparse_output=False)\n",
    "x_train = encoder.fit_transform(x_train)\n",
    "x_test = encoder.fit_transform(x_test)"
   ]
  },
  {
   "cell_type": "markdown",
   "metadata": {},
   "source": [
    "## Model selection"
   ]
  },
  {
   "cell_type": "code",
   "execution_count": null,
   "metadata": {},
   "outputs": [],
   "source": [
    "estimator_MLP = MLPClassifier()\n",
    "\n",
    "\n",
    "parameters_MLP= {\n",
    "'learning_rate': [ \"adaptive\"],\n",
    "'hidden_layer_sizes': [(3,)],\n",
    "'alpha': [0.001,0.1,1],\n",
    "'activation': ['relu','tanh'],\n",
    "'learning_rate_init': [0.01,0.1],\n",
    "'max_iter': [1500],\n",
    "'batch_size':['auto'],\n",
    "'solver' : ['sgd'],\n",
    "'early_stopping': [False],\n",
    "'n_iter_no_change': [10],\n",
    "'momentum': [0.1,0.5],\n",
    "'nesterovs_momentum': [True],\n",
    "'tol': [1e-4],\n",
    "'random_state':[42]\n",
    "}\n",
    "\n",
    "\n",
    "# with GridSearch\n",
    "grid_search = GridSearchCV(\n",
    "    estimator=estimator_MLP,\n",
    "    param_grid=parameters_MLP,\n",
    "    scoring = 'accuracy',\n",
    "    cv=RepeatedStratifiedKFold(n_splits=5, n_repeats=10, random_state=0),\n",
    "    n_jobs=-1,\n",
    "    return_train_score = True,\n",
    "    refit=True,\n",
    ")\n",
    "\n",
    "MLP=grid_search.fit(x_train, y_train)"
   ]
  },
  {
   "cell_type": "markdown",
   "metadata": {},
   "source": [
    "### Evaluating the MLP classifier "
   ]
  },
  {
   "cell_type": "code",
   "execution_count": null,
   "metadata": {},
   "outputs": [],
   "source": [
    "cv_results_df = pd.DataFrame(MLP.cv_results_)\n",
    "best_model_index=MLP.best_index_\n",
    "\n",
    "print('best params',MLP.best_params_) \n",
    "\n",
    "val_acc=cv_results_df['mean_test_score'][best_model_index]\n",
    "val_std=cv_results_df['std_test_score'][best_model_index]\n",
    "train_acc=cv_results_df['mean_train_score'][best_model_index]\n",
    "train_std=cv_results_df['std_train_score'][best_model_index]\n",
    "print('Train accuracy:',train_acc,'+/-', train_std)\n",
    "print('validation accuracy:',val_acc,'+/-', val_std)\n",
    "\n",
    "cv_results_df[['mean_test_score','mean_train_score','param_learning_rate','param_hidden_layer_sizes','param_activation']]"
   ]
  },
  {
   "cell_type": "markdown",
   "metadata": {},
   "source": [
    "## Learning curve"
   ]
  },
  {
   "cell_type": "code",
   "execution_count": null,
   "metadata": {},
   "outputs": [],
   "source": [
    "# Split the data into training and validation sets\n",
    "x_train_cl, x_val, y_train_cl, y_val = train_test_split(x_train, y_train, test_size=0.2, random_state=0, stratify=y_train, shuffle=True)\n",
    "\n",
    "best_params=grid_search.best_params_\n",
    "best_params['early_stopping']=False\n",
    "tol=best_params['tol']\n",
    "lr_init=best_params['learning_rate_init']\n",
    "# Initialize the classifier\n",
    "clf=clone(MLPClassifier(**best_params))\n",
    "\n",
    "# Lists to store training and validation loss\n",
    "train_loss = []\n",
    "val_loss = []\n",
    "train_acc = []\n",
    "val_acc = []\n",
    "\n",
    "# Training loop\n",
    "for epoch in range(1500):\n",
    "\n",
    "    # Partial fit on the training set\n",
    "    clf.partial_fit(x_train_cl, y_train_cl, classes=np.unique(y_train_cl))\n",
    "\n",
    "    # Calculate training loss and accuracy\n",
    "    y_train_pred = clf.predict(x_train_cl)\n",
    "    train_acc.append(metrics.accuracy_score(y_train_cl, y_train_pred))\n",
    "    y_train_pred = clf.predict_proba(x_train_cl)\n",
    "    train_loss.append(metrics.log_loss(y_train_cl.astype(np.float32), y_train_pred.astype(np.float32)))\n",
    "\n",
    "    # Calculate validation loss and accuracy\n",
    "    y_val_pred = clf.predict(x_val)\n",
    "    val_acc.append(metrics.accuracy_score(y_val, y_val_pred))\n",
    "    y_val_pred = clf.predict_proba(x_val)\n",
    "    val_loss.append(metrics.log_loss(y_val.astype(np.float32), y_val_pred.astype(np.float32)))\n",
    "\n",
    "# Plot the loss curves\n",
    "plt.figure(figsize=(12,5))\n",
    "plt.subplot(121)\n",
    "plt.plot(train_acc, label='Training accuracy')\n",
    "plt.plot(val_acc, linestyle='--' ,label='Validation accuracy')\n",
    "plt.xlabel('Epoch')\n",
    "plt.ylabel('Accuracy')\n",
    "plt.legend()\n",
    "plt.subplot(122)\n",
    "plt.plot(train_loss, label='Training loss')\n",
    "plt.plot(val_loss, linestyle='--' ,label='Validation loss')\n",
    "plt.xlabel('Epoch')\n",
    "plt.ylabel('Loss')\n",
    "plt.legend()\n",
    "plt.show()"
   ]
  },
  {
   "cell_type": "markdown",
   "metadata": {},
   "source": [
    "## Model assessment"
   ]
  },
  {
   "cell_type": "code",
   "execution_count": null,
   "metadata": {},
   "outputs": [],
   "source": [
    "y_pred =MLP.predict(x_test)\n",
    "\n",
    "print('Accuracy Score - Test-error:', metrics.accuracy_score(y_test, y_pred))  \n",
    "\n",
    "print('\\n Classification report',metrics.classification_report(y_test, y_pred))\n",
    "\n",
    "cm = metrics.confusion_matrix(y_test, y_pred, labels=MLP.classes_)\n",
    "disp = metrics.ConfusionMatrixDisplay(confusion_matrix=cm,\n",
    "                               display_labels=MLP.classes_)\n",
    "disp.plot()\n",
    "plt.show()"
   ]
  }
 ],
 "metadata": {
  "kernelspec": {
   "display_name": "Python 3",
   "language": "python",
   "name": "python3"
  },
  "language_info": {
   "codemirror_mode": {
    "name": "ipython",
    "version": 3
   },
   "file_extension": ".py",
   "mimetype": "text/x-python",
   "name": "python",
   "nbconvert_exporter": "python",
   "pygments_lexer": "ipython3",
   "version": "3.10.12"
  }
 },
 "nbformat": 4,
 "nbformat_minor": 2
}

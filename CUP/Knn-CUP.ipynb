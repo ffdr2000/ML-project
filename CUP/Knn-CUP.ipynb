{
 "cells": [
  {
   "cell_type": "code",
   "execution_count": null,
   "metadata": {},
   "outputs": [],
   "source": [
    "import matplotlib.pyplot as plt\n",
    "import numpy as np\n",
    "import pandas as pd\n",
    "from sklearn.model_selection import GridSearchCV\n",
    "from sklearn import metrics \n",
    "from sklearn.neighbors import KNeighborsRegressor\n",
    "from sklearn.model_selection import RepeatedKFold\n",
    "from sklearn.model_selection import train_test_split\n",
    "from sklearn.metrics import make_scorer\n",
    "\n",
    "plt.rcParams.update({'font.size': 12})"
   ]
  },
  {
   "cell_type": "markdown",
   "metadata": {},
   "source": [
    "## CUP KNN"
   ]
  },
  {
   "cell_type": "code",
   "execution_count": null,
   "metadata": {},
   "outputs": [],
   "source": [
    "#importing data\n",
    "path=r'/home/ludovico/ML-project/data/cup/ML-CUP23-'\n",
    "train_set = pd.read_csv(path+'TR.csv',skiprows=7, header=None, delimiter=',', dtype=str)\n",
    "\n",
    "input=train_set[train_set.columns[1:-3]]\n",
    "target=train_set[train_set.columns[-3:]]\n",
    "\n",
    "#splitting design set from test set (test set will be used only for the final model assessment)\n",
    "#the random seed is fixed to use the same design set for all the models\n",
    "\n",
    "x_train, x_test, y_train, y_test = train_test_split(input, target, test_size=0.2, random_state=0, shuffle=True)\n",
    "\n",
    "x_train=x_train.astype(np.float64)\n",
    "y_train=y_train.astype(np.float64)\n",
    "\n",
    "#we add this metric (Mean euclidean error) to evaluate the performance of the model \n",
    "def MEE(x, y):\n",
    "    return np.mean(np.linalg.norm(x - y, 2, axis=1))"
   ]
  },
  {
   "cell_type": "markdown",
   "metadata": {},
   "source": [
    "### Plot of the validation error (MEE) varying the hyperparameters to choose the best\n",
    "We fix 3 different metrics weighting and not the neighbours with distance varying the number of neighbours"
   ]
  },
  {
   "cell_type": "code",
   "execution_count": null,
   "metadata": {},
   "outputs": [],
   "source": [
    "plt.figure(1,(12,4))\n",
    "n_neigh=np.arange(1,40,1)\n",
    "\n",
    "w=['distance', 'uniform']\n",
    "for weights in w:\n",
    "\n",
    "    mis=['l1','cosine','euclidean']\n",
    "    for i,metric in enumerate(mis):\n",
    "        parameters_KNN = {\n",
    "        'n_neighbors': n_neigh,\n",
    "        'weights': [weights],\n",
    "        'metric': [metric]\n",
    "    }\n",
    "        grid_search_KNN = GridSearchCV(\n",
    "            estimator=KNeighborsRegressor(),\n",
    "            param_grid=parameters_KNN,\n",
    "            refit=True,\n",
    "            cv=RepeatedKFold(n_splits=5, n_repeats=10, random_state=0),\n",
    "            n_jobs=-1,\n",
    "            return_train_score = True,\n",
    "            verbose=3,\n",
    "            scoring=make_scorer(MEE, greater_is_better=False),\n",
    "        )\n",
    "            \n",
    "        KNN=grid_search_KNN.fit(x_train, y_train)\n",
    "        cv_results_df = pd.DataFrame(grid_search_KNN.cv_results_)\n",
    "        error=cv_results_df['mean_test_score'].values\n",
    "        plt.subplot(1,3,i+1)\n",
    "        plt.subplots_adjust(wspace=0)\n",
    "        if i==0:\n",
    "            plt.ylabel('MEE validation')\n",
    "        else:\n",
    "            plt.yticks([])\n",
    "        plt.title('metric='+metric)\n",
    "        plt.errorbar(n_neigh,-error,label='weights='+weights,marker='.',linestyle='')\n",
    "        plt.xlabel('K')\n",
    "        plt.ylim(2.5,6)\n",
    "        plt.xticks([0,10,20,30])\n",
    "        plt.legend()\n",
    "\n",
    "plt.show()"
   ]
  },
  {
   "cell_type": "markdown",
   "metadata": {},
   "source": [
    "## Final grid search for KNN"
   ]
  },
  {
   "cell_type": "code",
   "execution_count": null,
   "metadata": {},
   "outputs": [],
   "source": [
    "n_neigh=np.arange(1,20,1)\n",
    "parameters_KNN = {\n",
    "    'n_neighbors': n_neigh,\n",
    "    'weights': ('uniform','distance'),\n",
    "    'metric': ('cosine','minkowski'),\n",
    "    'p':[1,2,3,5,7]\n",
    "}      \n",
    "\n",
    "grid_search_KNN = GridSearchCV(\n",
    "    estimator=KNeighborsRegressor(),\n",
    "    param_grid=parameters_KNN,\n",
    "    refit=True,\n",
    "    cv=RepeatedKFold(n_splits=5, n_repeats=5, random_state=0),\n",
    "    n_jobs=-1,\n",
    "    return_train_score = True,\n",
    "    scoring=make_scorer(MEE, greater_is_better=False),\n",
    ")\n",
    "KNN=grid_search_KNN.fit(x_train, y_train)"
   ]
  },
  {
   "cell_type": "markdown",
   "metadata": {},
   "source": [
    "## Evaluating the model"
   ]
  },
  {
   "cell_type": "code",
   "execution_count": null,
   "metadata": {},
   "outputs": [],
   "source": [
    "cv_results_df = pd.DataFrame(KNN.cv_results_)\n",
    "best_model_index=KNN.best_index_\n",
    "\n",
    "print('best params',KNN.best_params_) \n",
    "\n",
    "val_loss=cv_results_df['mean_test_score'][best_model_index]\n",
    "val_std=cv_results_df['std_test_score'][best_model_index]\n",
    "train_loss=cv_results_df['mean_train_score'][best_model_index]\n",
    "train_std=cv_results_df['std_train_score'][best_model_index]\n",
    "print('Train loss:',train_loss,'+/-', train_std)\n",
    "print('Validation loss:',val_loss,'+/-', val_std)\n",
    "\n",
    "cv_results_df"
   ]
  }
 ],
 "metadata": {
  "kernelspec": {
   "display_name": "Python 3",
   "language": "python",
   "name": "python3"
  },
  "language_info": {
   "codemirror_mode": {
    "name": "ipython",
    "version": 3
   },
   "file_extension": ".py",
   "mimetype": "text/x-python",
   "name": "python",
   "nbconvert_exporter": "python",
   "pygments_lexer": "ipython3",
   "version": "3.10.12"
  }
 },
 "nbformat": 4,
 "nbformat_minor": 2
}

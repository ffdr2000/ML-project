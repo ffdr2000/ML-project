{
 "cells": [
  {
   "cell_type": "code",
   "execution_count": null,
   "metadata": {},
   "outputs": [],
   "source": [
    "import matplotlib.pyplot as plt\n",
    "import numpy as np\n",
    "import pandas as pd\n",
    "from sklearn.model_selection import GridSearchCV\n",
    "from sklearn.multioutput import MultiOutputRegressor\n",
    "from sklearn import metrics \n",
    "from sklearn.svm import SVR\n",
    "from sklearn.model_selection import RepeatedKFold\n",
    "from sklearn.base import clone\n",
    "from sklearn.model_selection import train_test_split\n",
    "from sklearn.metrics import make_scorer\n",
    "\n",
    "plt.rcParams.update({'font.size': 12})"
   ]
  },
  {
   "cell_type": "code",
   "execution_count": null,
   "metadata": {},
   "outputs": [],
   "source": [
    "#importing data\n",
    "path=r'/home/ludovico/ML-project/data/cup/ML-CUP23-'\n",
    "train_set = pd.read_csv(path+'TR.csv',skiprows=7, header=None, delimiter=',', dtype=str)\n",
    "\n",
    "input=train_set[train_set.columns[1:-3]]\n",
    "target=train_set[train_set.columns[-3:]]\n",
    "\n",
    "#splitting design set from test set (test set is used in this final model assessment)\n",
    "\n",
    "x_train, x_test, y_train, y_test = train_test_split(input, target, test_size=0.2, random_state=0, shuffle=True)\n",
    "\n",
    "x_train=x_train.astype(np.float64)\n",
    "y_train=y_train.astype(np.float64)\n",
    "x_test=x_test.astype(np.float64)\n",
    "y_test=y_test.astype(np.float64)\n",
    "\n",
    "\n",
    "#we add this metric (Mean euclidean error) to evaluate the performance of the model \n",
    "def MEE(x, y):\n",
    "    return np.mean(np.linalg.norm(x - y, 2, axis=1))\n"
   ]
  },
  {
   "cell_type": "markdown",
   "metadata": {},
   "source": [
    "## Best model is SVM sigmoid with the following hyperparameters"
   ]
  },
  {
   "cell_type": "code",
   "execution_count": null,
   "metadata": {},
   "outputs": [],
   "source": [
    "best_model={'C': 50000, \n",
    "             'coef0': -4.0, \n",
    "             'epsilon': 0.1, \n",
    "             'gamma': 0.3, \n",
    "             'kernel': 'sigmoid'}\n",
    "\n",
    "estimator=MultiOutputRegressor(SVR(**best_model))\n",
    "\n",
    "# we fit the model on the whole design set\n",
    "SVM=estimator.fit(x_train,y_train)"
   ]
  },
  {
   "cell_type": "markdown",
   "metadata": {},
   "source": [
    "## Model assessment (MEE test error)"
   ]
  },
  {
   "cell_type": "code",
   "execution_count": null,
   "metadata": {},
   "outputs": [],
   "source": [
    "y_pred =SVM.predict(x_test)\n",
    "\n",
    "print('Test-error: MEE =', MEE(y_test, y_pred)) "
   ]
  },
  {
   "cell_type": "markdown",
   "metadata": {},
   "source": [
    "## Blind test prediction"
   ]
  },
  {
   "cell_type": "markdown",
   "metadata": {},
   "source": [
    "### Final refit on the whole dataset (TR+TS) "
   ]
  },
  {
   "cell_type": "code",
   "execution_count": null,
   "metadata": {},
   "outputs": [],
   "source": [
    "path=r'/home/ludovico/ML-project/data/cup/ML-CUP23-'\n",
    "#importing the data\n",
    "data_set = pd.read_csv(path+'TR.csv',skiprows=7, header=None, delimiter=',', dtype=str)\n",
    "\n",
    "#splitting input from target\n",
    "input=data_set[data_set.columns[1:-3]]\n",
    "target=data_set[data_set.columns[-3:]]"
   ]
  },
  {
   "cell_type": "code",
   "execution_count": null,
   "metadata": {},
   "outputs": [],
   "source": [
    "estimator_refit=clone(MultiOutputRegressor(SVR(**best_model)))\n",
    "SVM_refit=estimator_refit.fit(input.astype(np.float64),target.astype(np.float64))"
   ]
  },
  {
   "cell_type": "markdown",
   "metadata": {},
   "source": [
    "## Importing data from the blind test file"
   ]
  },
  {
   "cell_type": "code",
   "execution_count": null,
   "metadata": {},
   "outputs": [],
   "source": [
    "blind_test_set = pd.read_csv(path+'TS.csv',skiprows=7, header=None, delimiter=',', dtype=str)\n",
    "\n",
    "input_blind=blind_test_set[blind_test_set.columns[1:]]\n",
    "\n",
    "x_blind=input_blind.astype(np.float64)\n",
    "\n",
    "#predict the data\n",
    "y_blind_pred=SVM_refit.predict(x_blind)"
   ]
  },
  {
   "cell_type": "markdown",
   "metadata": {},
   "source": [
    "## Creation of the csv file for the cup competition"
   ]
  },
  {
   "cell_type": "code",
   "execution_count": null,
   "metadata": {},
   "outputs": [],
   "source": [
    "df_blind = pd.DataFrame((y_blind_pred))\n",
    "df_blind.index+=1\n",
    "\n",
    "with open('NikolaTeslaPigeon_ML-CUP23-TS.csv', 'w') as file:\n",
    "    file.write('# Ludovico Iannello, Federico Fattorini' + '\\n')\n",
    "    file.write('# NikolaTesla' + '\\n')\n",
    "    file.write('# ML-CUP23' + '\\n')\n",
    "    file.write('# 14/01/2024' + '\\n')\n",
    "\n",
    "df_blind.to_csv('NikolaTesla_ML-CUP23-TS.csv', mode='a', header=False)\n"
   ]
  }
 ],
 "metadata": {
  "kernelspec": {
   "display_name": "Python 3",
   "language": "python",
   "name": "python3"
  },
  "language_info": {
   "codemirror_mode": {
    "name": "ipython",
    "version": 3
   },
   "file_extension": ".py",
   "mimetype": "text/x-python",
   "name": "python",
   "nbconvert_exporter": "python",
   "pygments_lexer": "ipython3",
   "version": "3.10.12"
  }
 },
 "nbformat": 4,
 "nbformat_minor": 2
}
